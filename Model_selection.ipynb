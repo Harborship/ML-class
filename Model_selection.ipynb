{
  "nbformat": 4,
  "nbformat_minor": 0,
  "metadata": {
    "colab": {
      "name": "Model_selection.ipynb",
      "provenance": [],
      "collapsed_sections": []
    },
    "kernelspec": {
      "name": "python3",
      "display_name": "Python 3"
    },
    "language_info": {
      "name": "python"
    }
  },
  "cells": [
    {
      "cell_type": "markdown",
      "source": [
        "# Model_selection 모듈"
      ],
      "metadata": {
        "id": "_pPKinf1u6ZS"
      }
    },
    {
      "cell_type": "markdown",
      "source": [
        "### 학습/테스트 데이터 세트 분리 – train_test_split()\n",
        "- 사용되는 인수들\n",
        "  * test_size: 디폴트는 0.25\n",
        "  * train_size : 1-test_size이므로 의미가 없음\n",
        "  * shuffle: 데이터를 분리하기 전에 데이터를 미리 섞을지를 결정. 디폴트는 True\n",
        "  * stratify: 학습 데이터의 y 값의 분포를 균등하게 만들어줌\n",
        "  * random_state : 이 값이 동일하다면 동일한 난수를 사용해서 데이터를 추출함\n",
        "- 반환 값: 튜플 형태\n",
        "  * 학습용 데이터의 피쳐 데이터 세트(X_train)\n",
        "  * 테스트용 데이터의 피쳐 데이터 세트(X_test)\n",
        "  * 학습용 데이터의 레이블 데이터 세트(y_train)\n",
        "  * 테스트용 데이터의 레이블 데이터 세트(y_test)"
      ],
      "metadata": {
        "id": "DJL2237cwz5r"
      }
    },
    {
      "cell_type": "markdown",
      "source": [
        "- 훈련 데이터와 테스트 데이터로 분리하지 않고 머신러닝을 수행한다면?\n",
        "  * 모델의 정확도를 측정할 수가 없음! (정확히 표현하자면 측정한 정확도가 필요없는 수치가 되어버림)\n",
        "  * 이미 훈련에 사용된 데이터를 테스트에 또 사용하므로 모델의 분류 능력이 아닌 단순히 어떤 독립수에 대한 종속변수를 외워서 내놓는 꼴이 되어버리기 때문\n"
      ],
      "metadata": {
        "id": "UxX1rvlMu_eZ"
      }
    },
    {
      "cell_type": "code",
      "source": [
        "from sklearn.datasets import load_iris\n",
        "from sklearn.tree import DecisionTreeClassifier"
      ],
      "metadata": {
        "id": "X2ZrRITDyc_D"
      },
      "execution_count": null,
      "outputs": []
    },
    {
      "cell_type": "code",
      "execution_count": 1,
      "metadata": {
        "id": "ISgzHiMJu2Ok"
      },
      "outputs": [],
      "source": [
        "iris=load_iris()\n",
        "dtc=DecisionTreeClassifier(random_state=2022)\n",
        "dtc.fit(iris.data, iris.target)\n",
        "dtc.score(iris.data, iris.target)*100\n",
        "# 과연 여기서 나온 100의 의미가 뭘까? 과연 이 100점이 이 모델이 완벽하다는 것을 의미할까?"
      ]
    },
    {
      "cell_type": "markdown",
      "source": [
        "- 따라서 훈련 데이터와 테스트 데이터를 분리해서 모델을 훈련시키고 정확도를 측정해야 함. 이를 교차 검증이라고 부름\n",
        "  * 교차 검증을 통해 데이터의 편중을 막음\n",
        "  * 교차 검증을 통해 과적합을 피하고 성능 저하를 막음\n",
        "  * 일반적으로 교차 검증을 기반으로 1차 평가를 한 뒤 최종적으로 테스트 데이터 세트에 사용\n",
        "- 이 과정을 도와주는 함수 중 하나가 바로 cross_validate()와 cross_vall_score()"
      ],
      "metadata": {
        "id": "U-S8edv-ydcl"
      }
    },
    {
      "cell_type": "code",
      "source": [
        "from sklearn.model_selection import cross_val_score\n",
        "cross_val_score(dtc, iris.data, iris.target, scoring='accuracy', cv=5)\n",
        "# cross_val_score(모델, x 데이터, y 데이터, 평가 방법, 몇겹)\n",
        "\n",
        "cross_val_score(dtc, iris.data, iris.target, scoring='accuracy', cv=5).mean()\n"
      ],
      "metadata": {
        "colab": {
          "base_uri": "https://localhost:8080/"
        },
        "id": "iAnQKLkEvVv9",
        "outputId": "78653ff2-c2f1-4288-c254-b52cb662aad1"
      },
      "execution_count": 11,
      "outputs": [
        {
          "output_type": "execute_result",
          "data": {
            "text/plain": [
              "0.9533333333333334"
            ]
          },
          "metadata": {},
          "execution_count": 11
        }
      ]
    },
    {
      "cell_type": "markdown",
      "source": [
        "- 하지만 cross_val_score는 잘 쓰지 않음. 대신 교차검증과 최적 Hyperparameter 튜닝을 한번에 해주는 GridSearchCV 모듈을 사용"
      ],
      "metadata": {
        "id": "G8DbC2eSzC2K"
      }
    },
    {
      "cell_type": "markdown",
      "source": [
        "### GridSearchCV 클래스 : HyperParameter 튜닝 + 교차검증을 동시에 수행"
      ],
      "metadata": {
        "id": "5UaSyCuM0RG4"
      }
    },
    {
      "cell_type": "markdown",
      "source": [
        "#### decisiontreeclassifier에 gridsearchcv 적용하기"
      ],
      "metadata": {
        "id": "q5mL9Unf8M1w"
      }
    },
    {
      "cell_type": "code",
      "source": [
        "# Test / Train dataset 분리\n",
        "from sklearn.model_selection import train_test_split\n",
        "X_train, X_test, y_train, y_test=train_test_split(\n",
        "    iris.data, iris.target, stratify=iris.target, test_size=0.2, random_state=2022\n",
        ")"
      ],
      "metadata": {
        "id": "TLdyDh6i4YIN"
      },
      "execution_count": 13,
      "outputs": []
    },
    {
      "cell_type": "code",
      "source": [
        "# 모델과 그에 해당하는 하이퍼 파라미터 확인\n",
        "dtc=DecisionTreeClassifier(random_state=2022)\n",
        "dtc.get_params()"
      ],
      "metadata": {
        "colab": {
          "base_uri": "https://localhost:8080/"
        },
        "id": "nEHMFejc4wjP",
        "outputId": "514189b9-1bd0-4e32-8564-ee44d210e2b1"
      },
      "execution_count": 12,
      "outputs": [
        {
          "output_type": "execute_result",
          "data": {
            "text/plain": [
              "{'ccp_alpha': 0.0,\n",
              " 'class_weight': None,\n",
              " 'criterion': 'gini',\n",
              " 'max_depth': None,\n",
              " 'max_features': None,\n",
              " 'max_leaf_nodes': None,\n",
              " 'min_impurity_decrease': 0.0,\n",
              " 'min_samples_leaf': 1,\n",
              " 'min_samples_split': 2,\n",
              " 'min_weight_fraction_leaf': 0.0,\n",
              " 'random_state': 2022,\n",
              " 'splitter': 'best'}"
            ]
          },
          "metadata": {},
          "execution_count": 12
        }
      ]
    },
    {
      "cell_type": "code",
      "source": [
        "params={\n",
        "    'max_depth' : [2,3,4,5,6],\n",
        "    'min_samples_split' : [2,3,4],\n",
        "}"
      ],
      "metadata": {
        "id": "0dMpbxw644-u"
      },
      "execution_count": 15,
      "outputs": []
    },
    {
      "cell_type": "code",
      "source": [
        "from sklearn.model_selection import GridSearchCV\n",
        "grid_dt=GridSearchCV(\n",
        "    dtc, param_grid=params, scoring='accuracy', cv=5\n",
        ")\n",
        "# 이 조건 하에서는 총 75번 돌려서 최선의 모델을 찾아냄"
      ],
      "metadata": {
        "id": "AFu0RN0M5TxW"
      },
      "execution_count": 16,
      "outputs": []
    },
    {
      "cell_type": "code",
      "source": [
        "grid_dt.fit(X_train, y_train)"
      ],
      "metadata": {
        "colab": {
          "base_uri": "https://localhost:8080/"
        },
        "id": "HtIrNrOX6C7R",
        "outputId": "993aef7d-a627-47a9-ef80-4243eccf4740"
      },
      "execution_count": 17,
      "outputs": [
        {
          "output_type": "execute_result",
          "data": {
            "text/plain": [
              "GridSearchCV(cv=5, estimator=DecisionTreeClassifier(random_state=2022),\n",
              "             param_grid={'max_depth': [2, 3, 4, 5, 6],\n",
              "                         'min_samples_split': [2, 3, 4]},\n",
              "             scoring='accuracy')"
            ]
          },
          "metadata": {},
          "execution_count": 17
        }
      ]
    },
    {
      "cell_type": "code",
      "source": [
        "# gridsearch를 이용해 산출한 best parameter 확인하기\n",
        "grid_dt.best_params_"
      ],
      "metadata": {
        "colab": {
          "base_uri": "https://localhost:8080/"
        },
        "id": "jXI5wxQB7C5M",
        "outputId": "da1d3083-5e3a-4958-94ce-f5fa54dd2e40"
      },
      "execution_count": 19,
      "outputs": [
        {
          "output_type": "execute_result",
          "data": {
            "text/plain": [
              "{'max_depth': 3, 'min_samples_split': 2}"
            ]
          },
          "metadata": {},
          "execution_count": 19
        }
      ]
    },
    {
      "cell_type": "code",
      "source": [
        "# 최적 조건 하에서의 모델 정확도 측정\n",
        "grid_dt.best_score_"
      ],
      "metadata": {
        "colab": {
          "base_uri": "https://localhost:8080/"
        },
        "id": "ltBhuzgu7K4o",
        "outputId": "c46925e6-9a31-4f70-f926-bc3c5b7da080"
      },
      "execution_count": 21,
      "outputs": [
        {
          "output_type": "execute_result",
          "data": {
            "text/plain": [
              "0.9916666666666666"
            ]
          },
          "metadata": {},
          "execution_count": 21
        }
      ]
    },
    {
      "cell_type": "code",
      "source": [
        "# 최적의 분류 모델 만들기\n",
        "# dtc_best=DecisionTreeClassifier(max_depth=3, min_samples_split=2, random_state=2022) 코드의 심플한 표현\n",
        "dtc_best=grid_dt.best_estimator_"
      ],
      "metadata": {
        "id": "NFZ-ySy57R-J"
      },
      "execution_count": 27,
      "outputs": []
    },
    {
      "cell_type": "code",
      "source": [
        "# 최적의 분류 모델을 이용해 예측 및 평가\n",
        "dtc_best.score(X_test, y_test)"
      ],
      "metadata": {
        "colab": {
          "base_uri": "https://localhost:8080/"
        },
        "id": "9XrLZJ3E7wT8",
        "outputId": "a7249d81-b159-43e6-b4aa-16ba88bde0a3"
      },
      "execution_count": 28,
      "outputs": [
        {
          "output_type": "execute_result",
          "data": {
            "text/plain": [
              "0.9333333333333333"
            ]
          },
          "metadata": {},
          "execution_count": 28
        }
      ]
    },
    {
      "cell_type": "markdown",
      "source": [
        "#### svm에 gridsearchcv 적용하기"
      ],
      "metadata": {
        "id": "aYUZaqHb8Ug-"
      }
    },
    {
      "cell_type": "code",
      "source": [
        "from sklearn.svm import SVC\n",
        "svc=SVC(random_state=2022)\n",
        "svc.get_params()  # svm 모형에 적용되는 hyperparameter 확인하기"
      ],
      "metadata": {
        "colab": {
          "base_uri": "https://localhost:8080/"
        },
        "id": "s5QOq1--8Auz",
        "outputId": "a51ed89a-792f-4a31-b8b4-f21f478bbca5"
      },
      "execution_count": 29,
      "outputs": [
        {
          "output_type": "execute_result",
          "data": {
            "text/plain": [
              "{'C': 1.0,\n",
              " 'break_ties': False,\n",
              " 'cache_size': 200,\n",
              " 'class_weight': None,\n",
              " 'coef0': 0.0,\n",
              " 'decision_function_shape': 'ovr',\n",
              " 'degree': 3,\n",
              " 'gamma': 'scale',\n",
              " 'kernel': 'rbf',\n",
              " 'max_iter': -1,\n",
              " 'probability': False,\n",
              " 'random_state': 2022,\n",
              " 'shrinking': True,\n",
              " 'tol': 0.001,\n",
              " 'verbose': False}"
            ]
          },
          "metadata": {},
          "execution_count": 29
        }
      ]
    },
    {
      "cell_type": "code",
      "source": [
        "params={'C' : [0.01,0.1,1,10,100]}\n",
        "grid_sv=GridSearchCV(svc, params, scoring='accuracy', cv=5)"
      ],
      "metadata": {
        "id": "IFDZtrZp8dkz"
      },
      "execution_count": 30,
      "outputs": []
    },
    {
      "cell_type": "code",
      "source": [
        "grid_sv.fit(X_train, y_train)\n",
        "grid_sv.best_params_"
      ],
      "metadata": {
        "colab": {
          "base_uri": "https://localhost:8080/"
        },
        "id": "cZi-3KxS9AC7",
        "outputId": "21e840b8-68d7-468e-d9dd-3d7e0891d3fc"
      },
      "execution_count": 32,
      "outputs": [
        {
          "output_type": "execute_result",
          "data": {
            "text/plain": [
              "{'C': 1}"
            ]
          },
          "metadata": {},
          "execution_count": 32
        }
      ]
    },
    {
      "cell_type": "code",
      "source": [
        "# 최적의 c를 찾기 위해 c의 범위를 계속 좁혀나감\n",
        "params={'C' : [0.2,0.6,1,4,8]}\n",
        "grid_sv=GridSearchCV(svc, params, scoring='accuracy', cv=5)\n",
        "grid_sv.fit(X_train, y_train)\n",
        "grid_sv.best_params_"
      ],
      "metadata": {
        "colab": {
          "base_uri": "https://localhost:8080/"
        },
        "id": "TCj__bmm9REb",
        "outputId": "3802e6b4-21d1-46b0-91a0-8fa6aff672f1"
      },
      "execution_count": 39,
      "outputs": [
        {
          "output_type": "execute_result",
          "data": {
            "text/plain": [
              "{'C': 4}"
            ]
          },
          "metadata": {},
          "execution_count": 39
        }
      ]
    },
    {
      "cell_type": "code",
      "source": [
        "# 최적의 c를 찾기 위해 c의 범위를 계속 좁혀나감\n",
        "params={'C' : [2,3,4,5,6]}\n",
        "grid_sv=GridSearchCV(svc, params, scoring='accuracy', cv=5)\n",
        "grid_sv.fit(X_train, y_train)\n",
        "grid_sv.best_params_"
      ],
      "metadata": {
        "colab": {
          "base_uri": "https://localhost:8080/"
        },
        "id": "wOVQyRK39FO3",
        "outputId": "3431930d-6a6d-465e-bd9b-86560367b1a6"
      },
      "execution_count": 40,
      "outputs": [
        {
          "output_type": "execute_result",
          "data": {
            "text/plain": [
              "{'C': 4}"
            ]
          },
          "metadata": {},
          "execution_count": 40
        }
      ]
    },
    {
      "cell_type": "code",
      "source": [
        "svc_best=grid_sv.best_estimator_\n",
        "svc_best.score(X_test, y_test)"
      ],
      "metadata": {
        "colab": {
          "base_uri": "https://localhost:8080/"
        },
        "id": "gh_7508q-Em4",
        "outputId": "545577b5-9a20-476f-8bf9-50d0a5cb4e5b"
      },
      "execution_count": 41,
      "outputs": [
        {
          "output_type": "execute_result",
          "data": {
            "text/plain": [
              "0.9666666666666667"
            ]
          },
          "metadata": {},
          "execution_count": 41
        }
      ]
    },
    {
      "cell_type": "code",
      "source": [
        ""
      ],
      "metadata": {
        "id": "WV3BhmUj-LFT"
      },
      "execution_count": null,
      "outputs": []
    }
  ]
}